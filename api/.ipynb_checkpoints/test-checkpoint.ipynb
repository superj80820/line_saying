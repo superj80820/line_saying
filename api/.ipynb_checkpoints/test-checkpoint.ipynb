{
 "cells": [
  {
   "cell_type": "code",
   "execution_count": 32,
   "metadata": {},
   "outputs": [],
   "source": [
    "import random\n",
    "import sqlite3 as sqlite\n",
    "from flask import Flask, request, abort\n",
    "\n",
    "from linebot import (\n",
    "    LineBotApi, WebhookHandler\n",
    ")\n",
    "from linebot.exceptions import (\n",
    "    InvalidSignatureError\n",
    ")\n",
    "from linebot.models import (\n",
    "    MessageEvent, TextMessage, TextSendMessage,\n",
    ")\n",
    "\n",
    "app = Flask(__name__)\n",
    "\n",
    "line_bot_api = LineBotApi('D9I+Oxtoll926dCqHX3bnx6fhiAqKt28n/PQYmaeGjsmG3Uq+W+tspiRQaAW6AZTQKpZuvi9VAFFpL8+EBhExS1U/zjqRCoVF2lpDwFgDvf6k9bOrlgB8fEcBJCgTd9g41oQ7iTMb3o0t2qPddQskgdB04t89/1O/w1cDnyilFU=')\n",
    "handler = WebhookHandler('e840717929fb3e363919b0b31b86f056')"
   ]
  },
  {
   "cell_type": "code",
   "execution_count": 33,
   "metadata": {},
   "outputs": [
    {
     "name": "stderr",
     "output_type": "stream",
     "text": [
      " * Running on http://127.0.0.1:5000/ (Press CTRL+C to quit)\n",
      "127.0.0.1 - - [28/Aug/2018 00:28:59] \"POST /callback HTTP/1.1\" 200 -\n"
     ]
    }
   ],
   "source": [
    "@app.route(\"/callback\", methods=['POST'])\n",
    "def callback():\n",
    "    # get X-Line-Signature header value\n",
    "    signature = request.headers['X-Line-Signature']\n",
    "\n",
    "    # get request body as text\n",
    "    body = request.get_data(as_text=True)\n",
    "    app.logger.info(\"Request body: \" + body)\n",
    "\n",
    "    # handle webhook body\n",
    "    try:\n",
    "        handler.handle(body, signature)\n",
    "    except InvalidSignatureError:\n",
    "        abort(400)\n",
    "\n",
    "    return 'OK'\n",
    "\n",
    "\n",
    "@handler.add(MessageEvent, message=TextMessage)\n",
    "def handle_message(event):\n",
    "\n",
    "    \n",
    "    if event.message.text=='meeting!':\n",
    "        conn = sqlite.connect('create_check.db')\n",
    "        c = conn.cursor()\n",
    "        c.execute(\"INSERT INTO meet_check\"+\"(api_request) VALUES ('aaa')\")\n",
    "        conn.commit()\n",
    "        conn.close()\n",
    "        \n",
    "        \n",
    "#         conn = sqlite.connect('class.db')\n",
    "#         c = conn.cursor()\n",
    "#         c.execute('CREATE TABLE '+'33'+' (menber text UNIQUE,acter text UNIQUE)')\n",
    "#         conn.commit()\n",
    "#         conn.close()\n",
    "#         print('以創建'+event.source.group_id)\n",
    "    elif event.message.text=='+1':\n",
    "        conn = sqlite.connect('class.db')\n",
    "        c = conn.cursor()\n",
    "        c.execute(\"INSERT INTO \"+event.source.group_id+\"(menber) VALUES ('\"+event.source.user_id+\"')\")\n",
    "        conn.commit()\n",
    "        conn.close()\n",
    "        line_bot_api.reply_message(\n",
    "                event.reply_token,\n",
    "                TextSendMessage(text='已加入~'))\n",
    "    elif event.message.text=='開始':\n",
    "        conn = sqlite.connect('class.db')  \n",
    "        c = conn.cursor()  \n",
    "        menbers=list(c.execute(\"SELECT menber FROM \"+event.source.group_id))\n",
    "        conn.close()\n",
    "        \n",
    "        select=random.randint(0,len(menbers)-1)\n",
    "        spy=menbers[select]\n",
    "        menbers.remove(spy)\n",
    "        spy=spy[0]\n",
    "        print(event.source.group_id)\n",
    "        line_bot_api.push_message(spy, TextSendMessage(text='你是spy'))\n",
    "        \n",
    "        user_id=\"'%s'\"%event.source.user_id\n",
    "        conn = sqlite.connect('class.db')\n",
    "        c = conn.cursor()\n",
    "        c.execute(\"UPDATE %s SET acter = 'spy' WHERE menber = %s\"%(event.source.group_id,user_id))\n",
    "        conn.commit()\n",
    "        conn.close()\n",
    "        \n",
    "        print(menbers)\n",
    "        for item in menbers:\n",
    "            line_bot_api.push_message(item[0], TextSendMessage(text='你是警察'))\n",
    "            \n",
    "            user_id=\"'%s'\"%item[0]\n",
    "            conn = sqlite.connect('class.db')\n",
    "            c = conn.cursor()\n",
    "            c.execute(\"UPDATE %s SET acter = 'cup' WHERE menber = %s\"%(event.source.group_id,user_id))\n",
    "            conn.commit()\n",
    "            conn.close()\n",
    "        \n",
    "\n",
    "if __name__ == \"__main__\":\n",
    "    app.run()"
   ]
  },
  {
   "cell_type": "code",
   "execution_count": 15,
   "metadata": {},
   "outputs": [],
   "source": [
    "conn = sqlite.connect('create_check.db')"
   ]
  },
  {
   "cell_type": "code",
   "execution_count": 37,
   "metadata": {},
   "outputs": [
    {
     "data": {
      "text/plain": [
       "'58940'"
      ]
     },
     "execution_count": 37,
     "metadata": {},
     "output_type": "execute_result"
    }
   ],
   "source": [
    "import random\n",
    "''.join(random.choice(string.digits) for x in range(5))"
   ]
  },
  {
   "cell_type": "code",
   "execution_count": null,
   "metadata": {},
   "outputs": [],
   "source": []
  }
 ],
 "metadata": {
  "kernelspec": {
   "display_name": "Python 3",
   "language": "python",
   "name": "python3"
  },
  "language_info": {
   "codemirror_mode": {
    "name": "ipython",
    "version": 3
   },
   "file_extension": ".py",
   "mimetype": "text/x-python",
   "name": "python",
   "nbconvert_exporter": "python",
   "pygments_lexer": "ipython3",
   "version": "3.6.4"
  }
 },
 "nbformat": 4,
 "nbformat_minor": 2
}
