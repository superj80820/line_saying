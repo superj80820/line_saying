{
 "cells": [
  {
   "cell_type": "code",
   "execution_count": 59,
   "metadata": {},
   "outputs": [],
   "source": [
    "import string\n",
    "import random\n",
    "import sqlite3 as sqlite\n",
    "from flask import Flask, request, abort\n",
    "\n",
    "from linebot import (\n",
    "    LineBotApi, WebhookHandler\n",
    ")\n",
    "from linebot.exceptions import (\n",
    "    InvalidSignatureError\n",
    ")\n",
    "from linebot.models import (\n",
    "    MessageEvent, TextMessage, TextSendMessage,\n",
    ")\n",
    "\n",
    "app = Flask(__name__)\n",
    "\n",
    "line_bot_api = LineBotApi('D9I+Oxtoll926dCqHX3bnx6fhiAqKt28n/PQYmaeGjsmG3Uq+W+tspiRQaAW6AZTQKpZuvi9VAFFpL8+EBhExS1U/zjqRCoVF2lpDwFgDvf6k9bOrlgB8fEcBJCgTd9g41oQ7iTMb3o0t2qPddQskgdB04t89/1O/w1cDnyilFU=')\n",
    "handler = WebhookHandler('e840717929fb3e363919b0b31b86f056')"
   ]
  },
  {
   "cell_type": "code",
   "execution_count": null,
   "metadata": {},
   "outputs": [
    {
     "name": "stderr",
     "output_type": "stream",
     "text": [
      " * Running on http://127.0.0.1:5000/ (Press CTRL+C to quit)\n",
      "[2018-08-28 01:14:22,214] ERROR in app: Exception on /create_meet [POST]\n",
      "Traceback (most recent call last):\n",
      "  File \"D:\\Users\\user\\Anaconda3\\lib\\site-packages\\flask\\app.py\", line 1982, in wsgi_app\n",
      "    response = self.full_dispatch_request()\n",
      "  File \"D:\\Users\\user\\Anaconda3\\lib\\site-packages\\flask\\app.py\", line 1614, in full_dispatch_request\n",
      "    rv = self.handle_user_exception(e)\n",
      "  File \"D:\\Users\\user\\Anaconda3\\lib\\site-packages\\flask\\app.py\", line 1517, in handle_user_exception\n",
      "    reraise(exc_type, exc_value, tb)\n",
      "  File \"D:\\Users\\user\\Anaconda3\\lib\\site-packages\\flask\\_compat.py\", line 33, in reraise\n",
      "    raise value\n",
      "  File \"D:\\Users\\user\\Anaconda3\\lib\\site-packages\\flask\\app.py\", line 1612, in full_dispatch_request\n",
      "    rv = self.dispatch_request()\n",
      "  File \"D:\\Users\\user\\Anaconda3\\lib\\site-packages\\flask\\app.py\", line 1598, in dispatch_request\n",
      "    return self.view_functions[rule.endpoint](**req.view_args)\n",
      "  File \"<ipython-input-60-534fe0bacbe2>\", line 89, in create_meet\n",
      "    sent_id=list(ans)[0][2]\n",
      "IndexError: list index out of range\n",
      "127.0.0.1 - - [28/Aug/2018 01:14:22] \"POST /create_meet HTTP/1.1\" 500 -\n",
      "127.0.0.1 - - [28/Aug/2018 01:14:41] \"POST /create_meet HTTP/1.1\" 200 -\n"
     ]
    }
   ],
   "source": [
    "@app.route(\"/callback\", methods=['POST'])\n",
    "def callback():\n",
    "    # get X-Line-Signature header value\n",
    "    signature = request.headers['X-Line-Signature']\n",
    "\n",
    "    # get request body as text\n",
    "    body = request.get_data(as_text=True)\n",
    "    app.logger.info(\"Request body: \" + body)\n",
    "\n",
    "    # handle webhook body\n",
    "    try:\n",
    "        handler.handle(body, signature)\n",
    "    except InvalidSignatureError:\n",
    "        abort(400)\n",
    "\n",
    "    return 'OK'\n",
    "\n",
    "@handler.add(MessageEvent, message=TextMessage)\n",
    "def handle_message(event):\n",
    "    if event.message.text=='meeting!':\n",
    "        meet_id=''.join(random.choice(string.digits) for x in range(5))\n",
    "        \n",
    "        conn = sqlite.connect('create_check.db')\n",
    "        c = conn.cursor()\n",
    "        c.execute(\"INSERT INTO meet_check\"+\"(api_request,user_id) VALUES ('\"+meet_id+\"','\"+event.source.user_id+\"')\")\n",
    "        conn.commit()\n",
    "        conn.close()\n",
    "        \n",
    "        line_bot_api.reply_message(\n",
    "                event.reply_token,\n",
    "                TextSendMessage(text='已創建meeting~代碼是：\\n%s'%(meet_id)))\n",
    "            \n",
    "@app.route('/create_meet', methods=['POST'])\n",
    "def create_meet():\n",
    "    web_id=request.get_json()['web_id']\n",
    "    conn = sqlite.connect('create_check.db')\n",
    "    c = conn.cursor()\n",
    "    ans=c.execute(\"SELECT * FROM meet_check WHERE api_request='%s'\" %(web_id))\n",
    "    if ans != []:\n",
    "        sent_id=list(ans)[0][2]\n",
    "        c.execute(\"UPDATE meet_check SET web_pass ='pass' WHERE api_request ='%s'\"%(web_id))\n",
    "        line_bot_api.push_message(sent_id, TextSendMessage(text='已驗證成功~'))\n",
    "        conn.commit()\n",
    "        conn.close()\n",
    "        return \"create done\"\n",
    "    else:\n",
    "        conn.commit()\n",
    "        conn.close()\n",
    "        return \"create fail\"\n",
    "\n",
    "if __name__ == \"__main__\":\n",
    "    app.run()"
   ]
  },
  {
   "cell_type": "code",
   "execution_count": null,
   "metadata": {},
   "outputs": [],
   "source": []
  }
 ],
 "metadata": {
  "kernelspec": {
   "display_name": "Python 3",
   "language": "python",
   "name": "python3"
  },
  "language_info": {
   "codemirror_mode": {
    "name": "ipython",
    "version": 3
   },
   "file_extension": ".py",
   "mimetype": "text/x-python",
   "name": "python",
   "nbconvert_exporter": "python",
   "pygments_lexer": "ipython3",
   "version": "3.6.4"
  }
 },
 "nbformat": 4,
 "nbformat_minor": 2
}
